{
 "cells": [
  {
   "cell_type": "markdown",
   "id": "f99ba6a6-6367-4df6-a443-71ef417c5200",
   "metadata": {},
   "source": [
    "# Import Libraries"
   ]
  },
  {
   "cell_type": "code",
   "execution_count": 2,
   "id": "e93f8ed8-dad8-4f92-83bc-6b4e81c5be33",
   "metadata": {},
   "outputs": [],
   "source": [
    "import numpy as np\n",
    "import cv2"
   ]
  },
  {
   "cell_type": "code",
   "execution_count": 3,
   "id": "b6a7afe6-5d0c-4073-a4da-3a32a59658ba",
   "metadata": {},
   "outputs": [],
   "source": [
    "import os\n",
    "import time"
   ]
  },
  {
   "cell_type": "code",
   "execution_count": 4,
   "id": "9edfc814-4172-4511-8b49-f9fa73ffbaa0",
   "metadata": {},
   "outputs": [],
   "source": [
    "from selenium import webdriver\n",
    "from selenium.webdriver.chrome.service import Service\n",
    "from selenium.webdriver.common.by import By\n",
    "from selenium.webdriver.support.ui import WebDriverWait\n",
    "from selenium.webdriver.support import expected_conditions as EC"
   ]
  },
  {
   "cell_type": "code",
   "execution_count": 5,
   "id": "628c7ab3-08b3-4357-95ca-1735890aa1b2",
   "metadata": {},
   "outputs": [],
   "source": [
    "import pytesseract\n",
    "from PIL import Image"
   ]
  },
  {
   "cell_type": "markdown",
   "id": "7c411f92-f52d-45ca-ba18-52e4271bb5ea",
   "metadata": {},
   "source": [
    "# Paths"
   ]
  },
  {
   "cell_type": "markdown",
   "id": "05725d3a-e1b7-42d7-bd23-14efa7aa3cc4",
   "metadata": {},
   "source": [
    "- The r prefix before the string makes it a raw string, which prevents Python from interpreting backslashes (\\\\) as escape characters. \n",
    "- This is important because the whitelist includes \\ as a special character."
   ]
  },
  {
   "cell_type": "code",
   "execution_count": 8,
   "id": "29fa97d7-8818-479a-be3e-f23cca003a03",
   "metadata": {},
   "outputs": [],
   "source": [
    "TESSERACT_PATH    = r\"C:\\Program Files\\Tesseract-OCR\\tesseract.exe\"\n",
    "CHROMEDRIVER_PATH = r\"C:\\Program Files\\Google\\chromedriver-win64\\chromedriver.exe\"\n",
    "CHROME_PATH       = r\"C:\\Program Files\\Google\\Chrome\\Application\\chrome.exe\""
   ]
  },
  {
   "cell_type": "code",
   "execution_count": 9,
   "id": "71dd4104-e445-46c5-87df-a616b02a1851",
   "metadata": {},
   "outputs": [],
   "source": [
    "IRCTC_URL = \"https://www.irctc.co.in/nget/redirect?pnr=2108873329&service=PRS_MEAL_BOOKING\""
   ]
  },
  {
   "cell_type": "code",
   "execution_count": 10,
   "id": "294e58a6-c562-4767-8ec5-207b0334e68a",
   "metadata": {},
   "outputs": [],
   "source": [
    "# Tesseract setup\n",
    "pytesseract.pytesseract.tesseract_cmd = TESSERACT_PATH"
   ]
  },
  {
   "cell_type": "markdown",
   "id": "88accffe-4f3b-4e52-81b8-175d1109b882",
   "metadata": {},
   "source": [
    "# Code Functionality"
   ]
  },
  {
   "cell_type": "markdown",
   "id": "44075dae-7d67-435c-aa5c-f03c0b6e97b8",
   "metadata": {},
   "source": [
    "<h3><center> preprocess_captcha() </center></h3>\n",
    "\n",
    "* This function is designed to enhance a CAPTCHA image to improve the accuracy of Optical Character Recognition (OCR) when using a tool like Tesseract.\n",
    "* CAPTCHAs often contain noise, distortions, or low contrast, which can make text extraction difficult.\n",
    "* This function applies a series of image processing techniques using OpenCV (cv2) and NumPy (np) to clean and prepare the image."
   ]
  },
  {
   "cell_type": "code",
   "execution_count": 13,
   "id": "e2e454c1-ec6f-400d-8536-6d010e1fad8e",
   "metadata": {},
   "outputs": [],
   "source": [
    "def preprocess_captcha(img_path):\n",
    "    \n",
    "    \"\"\"\n",
    "        Process CAPTCHA image to improve OCR accuracy.\n",
    "    \"\"\"\n",
    "\n",
    "    # Converts the image to grayscale (single-channel, black-and-white) instead of keeping its RGB color channels.\n",
    "    # Grayscale simplifies processing and is often sufficient for text recognition, reducing computational complexity.\n",
    "    img = cv2.imread(img_path, cv2.IMREAD_GRAYSCALE)\n",
    "\n",
    "\n",
    "    \n",
    "    \n",
    "    # Resize to improve recognition\n",
    "    # fx=2, fy=2: Scales the image width and height by a factor of 2, effectively doubling its size.\n",
    "    # Uses bilinear interpolation to smooth the resized image, preserving details as much as possible.\n",
    "    '''\n",
    "        Purpose: Enlarging the image can make small or faint text more distinguishable, \n",
    "        potentially improving OCR accuracy by providing more pixel data for analysis.\n",
    "    '''\n",
    "    img = cv2.resize(img, None, fx=2, fy=2, interpolation=cv2.INTER_LINEAR)\n",
    "\n",
    "\n",
    "\n",
    "    \n",
    "    # Apply Gaussian blur\n",
    "    # (3, 3): The kernel size (a 3x3 window) used to compute the blur.\n",
    "    # 0: The standard deviation of the Gaussian kernel\n",
    "    '''\n",
    "       Gaussian blur reduces noise and smooths the image by averaging pixel values within the kernel. \n",
    "       This helps remove small speckles or artifacts in the CAPTCHA that could confuse OCR.\n",
    "    '''\n",
    "    blur = cv2.GaussianBlur(img, (3, 3), 0)\n",
    "\n",
    "\n",
    "\n",
    "    \n",
    "    # Apply thresholding\n",
    "    # _: The computed threshold value\n",
    "    # thresh: A binary image where pixels are either 0 (black) or 255 (white), enhancing text contrast.\n",
    "    '''\n",
    "      cv2.THRESH_OTSU : Automatically determines the optimal threshold value based on the image histogram, \n",
    "                        which is useful for images with varying lighting or contrast.\n",
    "                        \n",
    "      cv2.THRESH_BINARY_INV: Inverts the binary output, making text white on a black background \n",
    "                             (common for OCR as it aligns with Tesseract’s expectations).\n",
    "\n",
    "    \n",
    "       The cv2.THRESH_BINARY_INV + cv2.THRESH_OTSU combination is used to \n",
    "       automatically determine the best threshold for the CAPTCHA image (via Otsu’s method) and \n",
    "       invert the result to produce white text on a black background (via cv2.THRESH_BINARY_INV), optimizing it for Tesseract OCR.\n",
    "    '''\n",
    "    _, thresh = cv2.threshold(blur, 0, 255, cv2.THRESH_BINARY_INV + cv2.THRESH_OTSU)\n",
    "\n",
    "\n",
    "\n",
    "    \n",
    "    # Morphological operations to remove noise\n",
    "    # Removes remaining noise or disconnected pixels that thresholding might not handle, improving the clarity of the text.\n",
    "    '''\n",
    "       cv2.MORPH_OPEN: A morphological operation that first erodes (removes small white noise) and then dilates (restores the shape of the text). \n",
    "                       This helps remove small artifacts while preserving the main text structure.\n",
    "    '''\n",
    "    kernel = np.ones((2, 2), np.uint8)\n",
    "    morph = cv2.morphologyEx(thresh, cv2.MORPH_OPEN, kernel)\n",
    "\n",
    "\n",
    "    \n",
    "    # Save processed image for debug\n",
    "    processed_path = \"processed_captcha.png\"\n",
    "    cv2.imwrite(processed_path, morph)\n",
    "    return processed_path"
   ]
  },
  {
   "cell_type": "markdown",
   "id": "89ff7b13-a47d-43a1-a110-23d4d252f6c4",
   "metadata": {},
   "source": [
    "<h3><center> extract_text_from_captcha() </center></h3>\n",
    "* Extract alphanumeric and symbol text from a processed CAPTCHA image."
   ]
  },
  {
   "cell_type": "code",
   "execution_count": 15,
   "id": "a580f7b1-e001-4291-ba55-2e734133bbca",
   "metadata": {},
   "outputs": [],
   "source": [
    "def extract_text_from_captcha(image_path):\n",
    "    \n",
    "    \"\"\"\n",
    "       Extract alphanumeric and symbol text from a processed CAPTCHA image.\n",
    "    \"\"\"\n",
    "\n",
    "    \n",
    "\n",
    "    '''\n",
    "      The whitelist restricts Tesseract to only recognize the specified characters, \n",
    "      improving accuracy by ignoring irrelevant noise or characters outside the CAPTCHA’s expected set.\n",
    "    '''\n",
    "    config = r'--psm 7 -c tessedit_char_whitelist=abcdefghijklmnopqrstuvwxyzABCDEFGHIJKLMNOPQRSTUVWXYZ0123456789!@#$%^&*()_+-=[]{}|;:\\'\",.<>?/\\\\'\n",
    "\n",
    "\n",
    "    \n",
    "\n",
    "    img = Image.open(image_path)\n",
    "\n",
    "\n",
    "\n",
    "    \n",
    "    ''' \n",
    "      The function returns the extracted text as a string (raw_text), which may include extra whitespace, newlines, or errors depending on the image quality and Tesseract’s accuracy.\n",
    "    '''\n",
    "    raw_text = pytesseract.image_to_string(img, config=config)\n",
    "\n",
    "\n",
    "\n",
    "    \n",
    "    # contain the alphanumeric and symbolic characters from the CAPTCHA image, ready to be used\n",
    "    # strip() : method removes leading and trailing whitespace characters\n",
    "    clean_text = raw_text.strip()\n",
    "\n",
    "\n",
    "\n",
    "    \n",
    "    return clean_text"
   ]
  },
  {
   "cell_type": "markdown",
   "id": "5ec0b877-2d00-41f0-9abc-c47e435b8b74",
   "metadata": {},
   "source": [
    "<h3><center> solve_and_fill_captcha() </center></h3>\n",
    "\n",
    "* Detect CAPTCHA image, extract and fill its value.\n",
    "* This function takes a driver object (a Selenium WebDriver instance) as an input and attempts to solve and fill a CAPTCHA on the webpage the driver is interacting with."
   ]
  },
  {
   "cell_type": "markdown",
   "id": "29bf8593-827f-4cc0-9a56-98a747905b9f",
   "metadata": {},
   "source": [
    "`XPath :`\n",
    "* Locates the CAPTCHA image element on the IRCTC webpage. \n",
    "* This XPath targets an \\<img\\> element within a form structure."
   ]
  },
  {
   "cell_type": "code",
   "execution_count": 18,
   "id": "3e2460a1-c07b-4df3-8bd1-896d5bea652b",
   "metadata": {},
   "outputs": [],
   "source": [
    "def solve_and_fill_captcha(driver):\n",
    "    \n",
    "    \"\"\"\n",
    "        Detect CAPTCHA image, extract and fill its value.\n",
    "    \"\"\"\n",
    "\n",
    "\n",
    "\n",
    "    # Capture the CAPTCHA Image\n",
    "    try:\n",
    "        print(\"\\n Capturing CAPTCHA image...\")\n",
    "        \n",
    "        captcha_xpath       = '//*[@id=\"login_header_disable\"]/div/div/div[2]/div[2]/div/div[2]/div/div[2]/form/div[5]/div/app-captcha/div/div/div[2]/span[1]/img'\n",
    "        captcha_input_xpath = '//*[@id=\"captcha\"]'\n",
    "        \n",
    "        # Wait for CAPTCHA image and take screenshot\n",
    "        captcha_img = WebDriverWait(driver, 10).until( \n",
    "                                                       # The condition waits for an element matching the XPath captcha_input_xpath to exist in the webpage's HTML structure.\n",
    "                                                       EC.presence_of_element_located((By.XPATH, captcha_xpath))\n",
    "                                                     )\n",
    "        captcha_img.screenshot(\"captcha.png\")\n",
    "\n",
    "\n",
    "\n",
    "\n",
    "        # Preprocess the CAPTCHA Image\n",
    "        print(\" Preprocessing CAPTCHA image...\")\n",
    "        processed_img = preprocess_captcha(\"captcha.png\")\n",
    "\n",
    "\n",
    "\n",
    "        \n",
    "        # Solve the CAPTCHA Using OCR\n",
    "        print(\" Solving CAPTCHA using OCR...\")\n",
    "        captcha_text = extract_text_from_captcha(processed_img)\n",
    "        print(f\" Extracted CAPTCHA text: {captcha_text}\")\n",
    "\n",
    "        \n",
    "\n",
    "        if len(captcha_text) >= 4:\n",
    "            captcha_input = WebDriverWait(driver, 5).until(\n",
    "                                                            # The condition waits for an element matching the XPath captcha_input_xpath to exist in the webpage's HTML structure.\n",
    "                                                            EC.presence_of_element_located((By.XPATH, captcha_input_xpath))\n",
    "                                                          )\n",
    "            captcha_input.clear()\n",
    "            captcha_input.send_keys(captcha_text)\n",
    "            return True\n",
    "        else:\n",
    "            print(\" CAPTCHA too short or unreadable.\")\n",
    "            return False\n",
    "\n",
    "\n",
    "    \n",
    "    except Exception as e:\n",
    "        print(f\" CAPTCHA solving failed: {e}\")\n",
    "        return False"
   ]
  },
  {
   "cell_type": "markdown",
   "id": "6ed331a9-9517-47c4-9490-3f0bfc7494fd",
   "metadata": {},
   "source": [
    "<h3><center> main() </center></h3>"
   ]
  },
  {
   "cell_type": "code",
   "execution_count": 20,
   "id": "84d5217d-b15d-4494-98fb-9822d6e3094b",
   "metadata": {},
   "outputs": [],
   "source": [
    "def main():\n",
    "\n",
    "    '''\n",
    "       Initialization of WebDriver\n",
    "    '''\n",
    "    # Creates a service object for ChromeDriver, which is the executable that controls Chrome\n",
    "    service = Service(CHROMEDRIVER_PATH)\n",
    "    \n",
    "    # Sets up configuration options for the Chrome browser.\n",
    "    options = webdriver.ChromeOptions()\n",
    "\n",
    "    # Specifies the path to the Chrome executable to ensure the correct browser version is used.\n",
    "    options.binary_location = CHROME_PATH\n",
    "\n",
    "    # Opens the browser in maximized mode for better visibility and interaction.\n",
    "    options.add_argument(\"--start-maximized\")\n",
    "\n",
    "    # Initializes the Chrome WebDriver with the specified service and options, creating a controllable browser instance.\n",
    "    driver = webdriver.Chrome(service=service, options=options)\n",
    "\n",
    "\n",
    "\n",
    "\n",
    "\n",
    "\n",
    "    '''\n",
    "       Navigate to IRCTC Website\n",
    "    '''\n",
    "    try:\n",
    "        print(\"Opening IRCTC...\")\n",
    "        driver.get(IRCTC_URL)\n",
    "        time.sleep(2)\n",
    "\n",
    "\n",
    "\n",
    "        # Handle Alert Popup\n",
    "        print(\"Attempting to close the alert popup...\")\n",
    "        try:\n",
    "            # Wait for and click the \"OK\" button on the alert popup\n",
    "            ok_button_xpath = '//button[text()=\"OK\"]'\n",
    "            WebDriverWait(driver, 10).until(\n",
    "                                             EC.element_to_be_clickable((By.XPATH, ok_button_xpath))\n",
    "                                           ).click()\n",
    "            print(\"Alert popup closed.\")\n",
    "            \n",
    "        except Exception as e:\n",
    "            print(f\"No 'OK' button found or unable to close popup: {e}\")\n",
    "            driver.save_screenshot(\"popup_error_screenshot.png\")\n",
    "            print(\"Screenshot saved as popup_error_screenshot.png\")\n",
    "\n",
    "        print(\"Waiting for overlay to disappear...\")\n",
    "        overlay_xpath = '//div[contains(@class, \"ui-dialog-mask\") and contains(@class, \"ui-widget-overlay\")]'\n",
    "        WebDriverWait(driver, 10).until(\n",
    "                                         EC.invisibility_of_element_located((By.XPATH, overlay_xpath))\n",
    "                                       )\n",
    "\n",
    "\n",
    "\n",
    "\n",
    "        \n",
    "\n",
    "        # Click the Login Button\n",
    "        print(\"Clicking login button...\")\n",
    "        login_xpath = '/html/body/app-root/app-home/div[1]/app-header/div[2]/div[2]/div[1]/a[1]'\n",
    "        \n",
    "        WebDriverWait(driver, 10).until(\n",
    "                                         EC.element_to_be_clickable((By.XPATH, login_xpath))\n",
    "                                       ).click()\n",
    "        time.sleep(2)\n",
    "\n",
    "        if solve_and_fill_captcha(driver):\n",
    "            print(\"CAPTCHA filled successfully!\")\n",
    "        else:\n",
    "            print(\"CAPTCHA solving failed.\")\n",
    "\n",
    "        print(\"Holding browser for 30 seconds...\")\n",
    "        time.sleep(30)\n",
    "\n",
    "\n",
    "    \n",
    "    finally:\n",
    "        driver.quit()"
   ]
  },
  {
   "cell_type": "code",
   "execution_count": 21,
   "id": "26145eb1-82a3-4cfc-9061-f5f96913bab0",
   "metadata": {},
   "outputs": [
    {
     "name": "stdout",
     "output_type": "stream",
     "text": [
      "Opening IRCTC...\n",
      "Attempting to close the alert popup...\n",
      "Alert popup closed.\n",
      "Waiting for overlay to disappear...\n",
      "Clicking login button...\n",
      "\n",
      " Capturing CAPTCHA image...\n",
      " Preprocessing CAPTCHA image...\n",
      " Solving CAPTCHA using OCR...\n",
      " Extracted CAPTCHA text: ReHt9\n",
      "CAPTCHA filled successfully!\n",
      "Holding browser for 30 seconds...\n"
     ]
    }
   ],
   "source": [
    "if __name__ == \"__main__\":\n",
    "    main()"
   ]
  },
  {
   "cell_type": "code",
   "execution_count": null,
   "id": "320f143d-0f93-4548-b51c-f3afaf7afc6e",
   "metadata": {},
   "outputs": [],
   "source": []
  },
  {
   "cell_type": "code",
   "execution_count": null,
   "id": "7f482037-2ca8-4a10-b3cd-2d814500628e",
   "metadata": {},
   "outputs": [],
   "source": []
  },
  {
   "cell_type": "code",
   "execution_count": null,
   "id": "2d246307-f7f8-4656-a627-27b09fd8d07e",
   "metadata": {},
   "outputs": [],
   "source": []
  }
 ],
 "metadata": {
  "kernelspec": {
   "display_name": "Python [conda env:base] *",
   "language": "python",
   "name": "conda-base-py"
  },
  "language_info": {
   "codemirror_mode": {
    "name": "ipython",
    "version": 3
   },
   "file_extension": ".py",
   "mimetype": "text/x-python",
   "name": "python",
   "nbconvert_exporter": "python",
   "pygments_lexer": "ipython3",
   "version": "3.12.3"
  }
 },
 "nbformat": 4,
 "nbformat_minor": 5
}
